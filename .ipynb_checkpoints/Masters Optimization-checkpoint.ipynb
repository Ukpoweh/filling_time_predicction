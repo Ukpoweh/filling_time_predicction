{
 "cells": [
  {
   "cell_type": "code",
   "execution_count": null,
   "id": "59fc704d",
   "metadata": {},
   "outputs": [],
   "source": [
    "import numpy as np\n",
    "\n",
    "import pandas as pd\n",
    "import matplotlib.pyplot as plt\n",
    "\n",
    "import seaborn as sns\n",
    "sns.set()\n",
    "\n",
    "from sklearn.preprocessing import LabelEncoder\n",
    "from sklearn.model_selection import train_test_split, cross_val_score\n",
    "from sklearn.ensemble import RandomForestRegressor\n",
    "from sklearn.metrics import mean_squared_error, r2_score\n",
    "\n",
    "import xgboost as xgb\n",
    "\n",
    "from tensorflow.keras.models import Sequential\n",
    "from tensorflow.keras.layers import Dense, Dropout\n",
    "from sklearn.preprocessing import StandardScaler\n",
    "\n",
    "import optuna\n",
    "import tensorflow as tf\n",
    "\n",
    "#import shap\n",
    "\n",
    "import warnings\n",
    "warnings.filterwarnings(\"ignore\")\n",
    "\n",
    "import optuna.visualization as vis\n",
    "\n",
    "from bayes_opt import BayesianOptimization\n",
    "\n",
    "from hyperopt import fmin, tpe, hp, Trials, STATUS_OK"
   ]
  },
  {
   "cell_type": "code",
   "execution_count": null,
   "id": "08c768c4",
   "metadata": {
    "scrolled": true
   },
   "outputs": [],
   "source": [
    "df = pd.read_excel(\"Masters Project Ansys Data (10).xlsx\", sheet_name=1)\n",
    "df"
   ]
  },
  {
   "cell_type": "code",
   "execution_count": null,
   "id": "f653c5d9",
   "metadata": {},
   "outputs": [],
   "source": [
    "df.head()"
   ]
  },
  {
   "cell_type": "code",
   "execution_count": null,
   "id": "339e8338",
   "metadata": {},
   "outputs": [],
   "source": [
    "df.info()"
   ]
  },
  {
   "cell_type": "code",
   "execution_count": null,
   "id": "63fa1be9",
   "metadata": {},
   "outputs": [],
   "source": [
    "cat_cols = ['Solder Ball shapes', 'Dispensing methods', 'Underfill Material']\n",
    "encoders = {col: LabelEncoder().fit(df[col]) for col in cat_cols}\n",
    "for col, le in encoders.items():\n",
    "    df[col] = le.transform(df[col])"
   ]
  },
  {
   "cell_type": "code",
   "execution_count": null,
   "id": "eff96c8a",
   "metadata": {},
   "outputs": [],
   "source": [
    "encoders"
   ]
  },
  {
   "cell_type": "code",
   "execution_count": null,
   "id": "f6e7b6e4",
   "metadata": {},
   "outputs": [],
   "source": [
    "df.head()"
   ]
  },
  {
   "cell_type": "code",
   "execution_count": null,
   "id": "ab3e1d82",
   "metadata": {},
   "outputs": [],
   "source": [
    "X = df.drop(['S/N', 'Simulation Time (s)'], axis=1)\n",
    "y = df['Simulation Time (s)']\n",
    "\n",
    "\n",
    "X_train, X_test, y_train, y_test = train_test_split(X, y, test_size=0.2, random_state=42)"
   ]
  },
  {
   "cell_type": "code",
   "execution_count": null,
   "id": "65e1fd57",
   "metadata": {},
   "outputs": [],
   "source": [
    "X"
   ]
  },
  {
   "cell_type": "markdown",
   "id": "e0fa4fe7",
   "metadata": {},
   "source": [
    "## Random Forest Regressor"
   ]
  },
  {
   "cell_type": "code",
   "execution_count": null,
   "id": "f48fa37c",
   "metadata": {},
   "outputs": [],
   "source": [
    "model = RandomForestRegressor(random_state=21)\n",
    "model.fit(X_train, y_train)\n",
    "preds = model.predict(X_test)\n",
    "print(\"Random Forest RMSE:\", mean_squared_error(y_test, preds, squared=False))"
   ]
  },
  {
   "cell_type": "code",
   "execution_count": null,
   "id": "8678cb1b",
   "metadata": {},
   "outputs": [],
   "source": [
    "importances = model.feature_importances_\n",
    "features = X.columns\n",
    "indices = importances.argsort()[::-1]\n",
    "\n",
    "plt.figure(figsize=(10, 6))\n",
    "sns.barplot(x=importances[indices], y=features[indices], palette=\"coolwarm\")\n",
    "plt.title(\"Feature Importance from Random Forest\")\n",
    "plt.xlabel(\"Importance\")\n",
    "plt.ylabel(\"Features\")\n",
    "plt.savefig(\"forest_importance.png\", dpi=300, bbox_inches='tight')\n",
    "plt.show()"
   ]
  },
  {
   "cell_type": "code",
   "execution_count": null,
   "id": "efb0f912",
   "metadata": {},
   "outputs": [],
   "source": [
    "y_pred = model.predict(X_test)\n",
    "\n",
    "plt.figure(figsize=(8, 6))\n",
    "sns.scatterplot(x=y_test, y=y_pred)\n",
    "plt.plot([y_test.min(), y_test.max()], [y_test.min(), y_test.max()], 'r--')  # ideal line\n",
    "plt.xlabel(\"Actual Simulation Time\")\n",
    "plt.ylabel(\"Predicted Simulation Time\")\n",
    "plt.title(\"Actual vs Predicted Values\")\n",
    "plt.savefig(\"forest_accuracy.png\", dpi=300, bbox_inches='tight')\n",
    "plt.show()\n",
    "\n",
    "print(\"R² Score:\", r2_score(y_test, y_pred))"
   ]
  },
  {
   "cell_type": "code",
   "execution_count": null,
   "id": "f476ebd9",
   "metadata": {},
   "outputs": [],
   "source": [
    "#explainer = shap.TreeExplainer(model)\n",
    "#shap_values = explainer.shap_values(X_test)\n",
    "\n",
    "#shap.summary_plot(shap_values, X_test)"
   ]
  },
  {
   "cell_type": "markdown",
   "id": "f8344fc2",
   "metadata": {},
   "source": [
    "## Xgboost Regressor"
   ]
  },
  {
   "cell_type": "code",
   "execution_count": null,
   "id": "380ad07f",
   "metadata": {},
   "outputs": [],
   "source": [
    "xgb_model = xgb.XGBRegressor(objective='reg:squarederror', n_estimators=100, random_state=42)\n",
    "xgb_model.fit(X_train, y_train)"
   ]
  },
  {
   "cell_type": "code",
   "execution_count": null,
   "id": "84082b97",
   "metadata": {},
   "outputs": [],
   "source": [
    "xgb_preds = xgb_model.predict(X_test)\n",
    "xgb_rmse = mean_squared_error(y_test, xgb_preds, squared=False)\n",
    "print(\"XGBoost RMSE:\", xgb_rmse)"
   ]
  },
  {
   "cell_type": "markdown",
   "id": "4d81bff2",
   "metadata": {},
   "source": [
    "## Optimization"
   ]
  },
  {
   "cell_type": "code",
   "execution_count": null,
   "id": "2e64e728",
   "metadata": {},
   "outputs": [],
   "source": [
    "#optuna\n",
    "def objective(trial):\n",
    "    shape = trial.suggest_categorical(\"Solder Ball shapes\", \n",
    "                                      encoders['Solder Ball shapes'].transform(encoders['Solder Ball shapes'].classes_).tolist())\n",
    "    method = trial.suggest_categorical(\"Dispensing methods\", \n",
    "                                       encoders['Dispensing methods'].transform(encoders['Dispensing methods'].classes_).tolist())\n",
    "    material = trial.suggest_categorical(\"Underfill Material\", \n",
    "                                         encoders['Underfill Material'].transform(encoders['Underfill Material'].classes_).tolist())\n",
    "    \n",
    "    viscosity = trial.suggest_float(\"Viscosity\", df['Viscosity'].min(), df['Viscosity'].max())\n",
    "    surface_tension = trial.suggest_float(\"Surface Tension\", df['Surface Tension'].min(), df['Surface Tension'].max())\n",
    "    density = trial.suggest_float(\"Density\", df['Density'].min(), df['Density'].max())\n",
    "\n",
    "    # Create feature array in the correct order\n",
    "    X = np.array([[shape, method, material, viscosity, surface_tension, density]])\n",
    "\n",
    "    # Predict and return simulation time\n",
    "    return model.predict(X)[0]\n",
    "\n",
    "# Run the optimization\n",
    "study = optuna.create_study(direction=\"minimize\")\n",
    "study.optimize(objective, n_trials=100)\n",
    "\n",
    "# Show results\n",
    "print(\"Best Parameters (Encoded):\", study.best_params)\n",
    "decoded = {\n",
    "    'Solder Ball shapes': encoders['Solder Ball shapes'].inverse_transform([study.best_params['Solder Ball shapes']])[0],\n",
    "    'Dispensing methods': encoders['Dispensing methods'].inverse_transform([study.best_params['Dispensing methods']])[0],\n",
    "    'Underfill Material': encoders['Underfill Material'].inverse_transform([study.best_params['Underfill Material']])[0],\n",
    "    'Viscosity': study.best_params['Viscosity'],\n",
    "    'Surface Tension': study.best_params['Surface Tension'],\n",
    "    'Density': study.best_params['Density']\n",
    "}\n",
    "print(\"Best Parameters (Decoded):\", decoded)\n",
    "print(\"Minimum Predicted Simulation Time:\", study.best_value)"
   ]
  },
  {
   "cell_type": "code",
   "execution_count": null,
   "id": "630ef449",
   "metadata": {},
   "outputs": [],
   "source": [
    "vis.plot_optimization_history(study).show()\n",
    "vis.plot_param_importances(study).show()\n"
   ]
  },
  {
   "cell_type": "code",
   "execution_count": null,
   "id": "1c08414e",
   "metadata": {},
   "outputs": [],
   "source": [
    "vis.plot_optimization_history(study).show()\n",
    "vis.plot_param_importances(study).show()\n",
    "vis.plot_parallel_coordinate(study).show()\n",
    "vis.plot_contour(study).show()\n",
    "vis.plot_slice(study).show()\n",
    "plt.savefig(\"slice_plot.png\", dpi=300, bbox_inches='tight')"
   ]
  },
  {
   "cell_type": "code",
   "execution_count": null,
   "id": "be2cd357",
   "metadata": {},
   "outputs": [],
   "source": [
    "vis.plot_slice(study).show()"
   ]
  },
  {
   "cell_type": "code",
   "execution_count": null,
   "id": "e31b741f",
   "metadata": {},
   "outputs": [],
   "source": [
    "from skopt import gp_minimize\n",
    "from skopt.space import Categorical, Real\n",
    "from skopt.utils import use_named_args\n",
    "import numpy as np\n",
    "\n",
    "# Define the search space\n",
    "space = [\n",
    "    Categorical(encoders['Solder Ball shapes'].transform(encoders['Solder Ball shapes'].classes_).tolist(), name='Solder Ball shapes'),\n",
    "    Categorical(encoders['Dispensing methods'].transform(encoders['Dispensing methods'].classes_).tolist(), name='Dispensing methods'),\n",
    "    Categorical(encoders['Underfill Material'].transform(encoders['Underfill Material'].classes_).tolist(), name='Underfill Material'),\n",
    "    Real(df['Viscosity'].min(), df['Viscosity'].max(), name='Viscosity'),\n",
    "    Real(df['Surface Tension'].min(), df['Surface Tension'].max(), name='Surface Tension'),\n",
    "    Real(df['Density'].min(), df['Density'].max(), name='Density')\n",
    "]\n",
    "\n",
    "# Define the objective function\n",
    "@use_named_args(space)\n",
    "def objective(**params):\n",
    "    X = np.array([[params['Solder Ball shapes'],\n",
    "                   params['Dispensing methods'],\n",
    "                   params['Underfill Material'],\n",
    "                   params['Viscosity'],\n",
    "                   params['Surface Tension'],\n",
    "                   params['Density']]])\n",
    "    return model.predict(X)[0]\n",
    "\n",
    "# Run Bayesian Optimization\n",
    "result = gp_minimize(objective, dimensions=space, n_calls=100, random_state=42)\n",
    "\n",
    "# Best encoded parameters\n",
    "best_encoded = dict(zip(\n",
    "    ['Solder Ball shapes', 'Dispensing methods', 'Underfill Material', 'Viscosity', 'Surface Tension', 'Density'],\n",
    "    result.x\n",
    "))\n",
    "print(\"Best Parameters (Encoded):\", best_encoded)\n",
    "\n",
    "# Decode categorical features\n",
    "decoded = {\n",
    "    'Solder Ball shapes': encoders['Solder Ball shapes'].inverse_transform([best_encoded['Solder Ball shapes']])[0],\n",
    "    'Dispensing methods': encoders['Dispensing methods'].inverse_transform([best_encoded['Dispensing methods']])[0],\n",
    "    'Underfill Material': encoders['Underfill Material'].inverse_transform([best_encoded['Underfill Material']])[0],\n",
    "    'Viscosity': best_encoded['Viscosity'],\n",
    "    'Surface Tension': best_encoded['Surface Tension'],\n",
    "    'Density': best_encoded['Density']\n",
    "}\n",
    "print(\"Best Parameters (Decoded):\", decoded)\n",
    "print(\"Minimum Predicted Simulation Time:\", result.fun)\n"
   ]
  },
  {
   "cell_type": "code",
   "execution_count": null,
   "id": "58793c2e",
   "metadata": {},
   "outputs": [],
   "source": [
    "from skopt.plots import plot_convergence\n",
    "import matplotlib.pyplot as plt\n",
    "\n",
    "plot_convergence(result)\n",
    "plt.title(\"Convergence Plot - skopt\")\n",
    "plt.show()"
   ]
  },
  {
   "cell_type": "code",
   "execution_count": null,
   "id": "cef097e1",
   "metadata": {},
   "outputs": [],
   "source": [
    "from skopt.plots import plot_convergence\n",
    "plot_convergence(result)"
   ]
  },
  {
   "cell_type": "code",
   "execution_count": null,
   "id": "ccbaad50",
   "metadata": {},
   "outputs": [],
   "source": [
    "from skopt.plots import plot_objective\n",
    "plot_objective(result)\n"
   ]
  },
  {
   "cell_type": "code",
   "execution_count": null,
   "id": "fe11b8ac",
   "metadata": {},
   "outputs": [],
   "source": []
  }
 ],
 "metadata": {
  "kernelspec": {
   "display_name": "Python 3 (ipykernel)",
   "language": "python",
   "name": "python3"
  },
  "language_info": {
   "codemirror_mode": {
    "name": "ipython",
    "version": 3
   },
   "file_extension": ".py",
   "mimetype": "text/x-python",
   "name": "python",
   "nbconvert_exporter": "python",
   "pygments_lexer": "ipython3",
   "version": "3.10.9"
  }
 },
 "nbformat": 4,
 "nbformat_minor": 5
}
